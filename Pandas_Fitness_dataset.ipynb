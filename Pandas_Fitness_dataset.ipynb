{
  "nbformat": 4,
  "nbformat_minor": 0,
  "metadata": {
    "colab": {
      "provenance": [],
      "authorship_tag": "ABX9TyNey/A18g7N7FZk8+xTYIda",
      "include_colab_link": true
    },
    "kernelspec": {
      "name": "python3",
      "display_name": "Python 3"
    },
    "language_info": {
      "name": "python"
    }
  },
  "cells": [
    {
      "cell_type": "markdown",
      "metadata": {
        "id": "view-in-github",
        "colab_type": "text"
      },
      "source": [
        "<a href=\"https://colab.research.google.com/github/ShivaManiV2/Pandas_Pratice/blob/master/Pandas_Fitness_dataset.ipynb\" target=\"_parent\"><img src=\"https://colab.research.google.com/assets/colab-badge.svg\" alt=\"Open In Colab\"/></a>"
      ]
    },
    {
      "cell_type": "markdown",
      "source": [
        "# Fitness Dataset"
      ],
      "metadata": {
        "id": "V8puvZ94TMli"
      }
    },
    {
      "cell_type": "markdown",
      "source": [
        "## Importing the dataset"
      ],
      "metadata": {
        "id": "v_9cjQUIbNep"
      }
    },
    {
      "cell_type": "code",
      "execution_count": 4,
      "metadata": {
        "id": "xGjDVKCDTJoB"
      },
      "outputs": [],
      "source": [
        "import pandas as pd\n",
        "import numpy as np\n",
        "\n",
        "data = pd.read_csv(\"Fitness_program.csv\")"
      ]
    },
    {
      "cell_type": "code",
      "source": [
        "df = pd.DataFrame(data)\n",
        "df"
      ],
      "metadata": {
        "collapsed": true,
        "id": "SQ91xeKfTtBQ",
        "colab": {
          "base_uri": "https://localhost:8080/",
          "height": 0
        },
        "outputId": "f65b657d-7abd-4510-d710-3ed92e27c689"
      },
      "execution_count": 5,
      "outputs": [
        {
          "output_type": "execute_result",
          "data": {
            "text/plain": [
              "                               title  \\\n",
              "0     Weightlifting Mobility program   \n",
              "1     Weightlifting Mobility program   \n",
              "2     Weightlifting Mobility program   \n",
              "3     Weightlifting Mobility program   \n",
              "4     Weightlifting Mobility program   \n",
              "...                              ...   \n",
              "8987         3x week mainly machines   \n",
              "8988         3x week mainly machines   \n",
              "8989         3x week mainly machines   \n",
              "8990         3x week mainly machines   \n",
              "8991         3x week mainly machines   \n",
              "\n",
              "                                            description  \\\n",
              "0     This program is designed to help athletes succ...   \n",
              "1     This program is designed to help athletes succ...   \n",
              "2     This program is designed to help athletes succ...   \n",
              "3     This program is designed to help athletes succ...   \n",
              "4     This program is designed to help athletes succ...   \n",
              "...                                                 ...   \n",
              "8987                      Lose weight and gain strength   \n",
              "8988                      Lose weight and gain strength   \n",
              "8989                      Lose weight and gain strength   \n",
              "8990                      Lose weight and gain strength   \n",
              "8991                                                  L   \n",
              "\n",
              "                                                  level  \\\n",
              "0     ['Beginner', 'Novice', 'Intermediate', 'Advanc...   \n",
              "1     ['Beginner', 'Novice', 'Intermediate', 'Advanc...   \n",
              "2     ['Beginner', 'Novice', 'Intermediate', 'Advanc...   \n",
              "3     ['Beginner', 'Novice', 'Intermediate', 'Advanc...   \n",
              "4     ['Beginner', 'Novice', 'Intermediate', 'Advanc...   \n",
              "...                                                 ...   \n",
              "8987                             ['Beginner', 'Novice']   \n",
              "8988                             ['Beginner', 'Novice']   \n",
              "8989                             ['Beginner', 'Novice']   \n",
              "8990                             ['Beginner', 'Novice']   \n",
              "8991                                                NaN   \n",
              "\n",
              "                                                   goal   equipment  \\\n",
              "0     ['Olympic Weightlifting', 'Muscle & Sculpting'...  Garage Gym   \n",
              "1     ['Olympic Weightlifting', 'Muscle & Sculpting'...  Garage Gym   \n",
              "2     ['Olympic Weightlifting', 'Muscle & Sculpting'...  Garage Gym   \n",
              "3     ['Olympic Weightlifting', 'Muscle & Sculpting'...  Garage Gym   \n",
              "4     ['Olympic Weightlifting', 'Muscle & Sculpting'...  Garage Gym   \n",
              "...                                                 ...         ...   \n",
              "8987                  ['Powerlifting', 'Powerbuilding']    Full Gym   \n",
              "8988                  ['Powerlifting', 'Powerbuilding']    Full Gym   \n",
              "8989                  ['Powerlifting', 'Powerbuilding']    Full Gym   \n",
              "8990                  ['Powerlifting', 'Powerbuilding']    Full Gym   \n",
              "8991                                                NaN         NaN   \n",
              "\n",
              "      program_length  time_per_workout  week  day  number_of_exercises  \\\n",
              "0                7.0              50.0   1.0  1.0                 16.0   \n",
              "1                7.0              50.0   1.0  1.0                 16.0   \n",
              "2                7.0              50.0   1.0  1.0                 16.0   \n",
              "3                7.0              50.0   1.0  1.0                 16.0   \n",
              "4                7.0              50.0   1.0  1.0                 16.0   \n",
              "...              ...               ...   ...  ...                  ...   \n",
              "8987            12.0              40.0   7.0  1.0                  8.0   \n",
              "8988            12.0              40.0   7.0  2.0                  6.0   \n",
              "8989            12.0              40.0   7.0  2.0                  6.0   \n",
              "8990            12.0              40.0   7.0  2.0                  6.0   \n",
              "8991             NaN               NaN   NaN  NaN                  NaN   \n",
              "\n",
              "                             exercise_name  sets   reps  intensity  \\\n",
              "0     Knee-to-wall ankle dorsiflexion test   3.0 -180.0        6.0   \n",
              "1                Banded ankle distractions   3.0  -18.0        6.0   \n",
              "2                 Slant board calf stretch   3.0  -18.0        6.0   \n",
              "3                    Seated Tibialis Raise   3.0   15.0        6.0   \n",
              "4                      90/90 Hip Rotations   3.0    8.0        6.0   \n",
              "...                                    ...   ...    ...        ...   \n",
              "8987                  Bicep Curl (Machine)   3.0   15.0        7.0   \n",
              "8988              Shoulder Press (Machine)   3.0    8.0        7.0   \n",
              "8989                Wide Grip Lat Pulldown   3.0   10.0        8.0   \n",
              "8990                    Seated Row (Cable)   3.0   10.0        8.0   \n",
              "8991                                   NaN   NaN    NaN        NaN   \n",
              "\n",
              "                  created            last_edit  \n",
              "0     2025-03-09 04:11:00  2025-06-23 03:31:00  \n",
              "1     2025-03-09 04:11:00  2025-06-23 03:31:00  \n",
              "2     2025-03-09 04:11:00  2025-06-23 03:31:00  \n",
              "3     2025-03-09 04:11:00  2025-06-23 03:31:00  \n",
              "4     2025-03-09 04:11:00  2025-06-23 03:31:00  \n",
              "...                   ...                  ...  \n",
              "8987  2025-05-26 08:41:00  2025-06-18 09:33:00  \n",
              "8988  2025-05-26 08:41:00  2025-06-18 09:33:00  \n",
              "8989  2025-05-26 08:41:00  2025-06-18 09:33:00  \n",
              "8990  2025-05-26 08:41:00  2025-06-18 09:33:00  \n",
              "8991                  NaN                  NaN  \n",
              "\n",
              "[8992 rows x 16 columns]"
            ],
            "text/html": [
              "\n",
              "  <div id=\"df-1713d345-4e9d-412f-bfc7-cb777afa15af\" class=\"colab-df-container\">\n",
              "    <div>\n",
              "<style scoped>\n",
              "    .dataframe tbody tr th:only-of-type {\n",
              "        vertical-align: middle;\n",
              "    }\n",
              "\n",
              "    .dataframe tbody tr th {\n",
              "        vertical-align: top;\n",
              "    }\n",
              "\n",
              "    .dataframe thead th {\n",
              "        text-align: right;\n",
              "    }\n",
              "</style>\n",
              "<table border=\"1\" class=\"dataframe\">\n",
              "  <thead>\n",
              "    <tr style=\"text-align: right;\">\n",
              "      <th></th>\n",
              "      <th>title</th>\n",
              "      <th>description</th>\n",
              "      <th>level</th>\n",
              "      <th>goal</th>\n",
              "      <th>equipment</th>\n",
              "      <th>program_length</th>\n",
              "      <th>time_per_workout</th>\n",
              "      <th>week</th>\n",
              "      <th>day</th>\n",
              "      <th>number_of_exercises</th>\n",
              "      <th>exercise_name</th>\n",
              "      <th>sets</th>\n",
              "      <th>reps</th>\n",
              "      <th>intensity</th>\n",
              "      <th>created</th>\n",
              "      <th>last_edit</th>\n",
              "    </tr>\n",
              "  </thead>\n",
              "  <tbody>\n",
              "    <tr>\n",
              "      <th>0</th>\n",
              "      <td>Weightlifting Mobility program</td>\n",
              "      <td>This program is designed to help athletes succ...</td>\n",
              "      <td>['Beginner', 'Novice', 'Intermediate', 'Advanc...</td>\n",
              "      <td>['Olympic Weightlifting', 'Muscle &amp; Sculpting'...</td>\n",
              "      <td>Garage Gym</td>\n",
              "      <td>7.0</td>\n",
              "      <td>50.0</td>\n",
              "      <td>1.0</td>\n",
              "      <td>1.0</td>\n",
              "      <td>16.0</td>\n",
              "      <td>Knee-to-wall ankle dorsiflexion test</td>\n",
              "      <td>3.0</td>\n",
              "      <td>-180.0</td>\n",
              "      <td>6.0</td>\n",
              "      <td>2025-03-09 04:11:00</td>\n",
              "      <td>2025-06-23 03:31:00</td>\n",
              "    </tr>\n",
              "    <tr>\n",
              "      <th>1</th>\n",
              "      <td>Weightlifting Mobility program</td>\n",
              "      <td>This program is designed to help athletes succ...</td>\n",
              "      <td>['Beginner', 'Novice', 'Intermediate', 'Advanc...</td>\n",
              "      <td>['Olympic Weightlifting', 'Muscle &amp; Sculpting'...</td>\n",
              "      <td>Garage Gym</td>\n",
              "      <td>7.0</td>\n",
              "      <td>50.0</td>\n",
              "      <td>1.0</td>\n",
              "      <td>1.0</td>\n",
              "      <td>16.0</td>\n",
              "      <td>Banded ankle distractions</td>\n",
              "      <td>3.0</td>\n",
              "      <td>-18.0</td>\n",
              "      <td>6.0</td>\n",
              "      <td>2025-03-09 04:11:00</td>\n",
              "      <td>2025-06-23 03:31:00</td>\n",
              "    </tr>\n",
              "    <tr>\n",
              "      <th>2</th>\n",
              "      <td>Weightlifting Mobility program</td>\n",
              "      <td>This program is designed to help athletes succ...</td>\n",
              "      <td>['Beginner', 'Novice', 'Intermediate', 'Advanc...</td>\n",
              "      <td>['Olympic Weightlifting', 'Muscle &amp; Sculpting'...</td>\n",
              "      <td>Garage Gym</td>\n",
              "      <td>7.0</td>\n",
              "      <td>50.0</td>\n",
              "      <td>1.0</td>\n",
              "      <td>1.0</td>\n",
              "      <td>16.0</td>\n",
              "      <td>Slant board calf stretch</td>\n",
              "      <td>3.0</td>\n",
              "      <td>-18.0</td>\n",
              "      <td>6.0</td>\n",
              "      <td>2025-03-09 04:11:00</td>\n",
              "      <td>2025-06-23 03:31:00</td>\n",
              "    </tr>\n",
              "    <tr>\n",
              "      <th>3</th>\n",
              "      <td>Weightlifting Mobility program</td>\n",
              "      <td>This program is designed to help athletes succ...</td>\n",
              "      <td>['Beginner', 'Novice', 'Intermediate', 'Advanc...</td>\n",
              "      <td>['Olympic Weightlifting', 'Muscle &amp; Sculpting'...</td>\n",
              "      <td>Garage Gym</td>\n",
              "      <td>7.0</td>\n",
              "      <td>50.0</td>\n",
              "      <td>1.0</td>\n",
              "      <td>1.0</td>\n",
              "      <td>16.0</td>\n",
              "      <td>Seated Tibialis Raise</td>\n",
              "      <td>3.0</td>\n",
              "      <td>15.0</td>\n",
              "      <td>6.0</td>\n",
              "      <td>2025-03-09 04:11:00</td>\n",
              "      <td>2025-06-23 03:31:00</td>\n",
              "    </tr>\n",
              "    <tr>\n",
              "      <th>4</th>\n",
              "      <td>Weightlifting Mobility program</td>\n",
              "      <td>This program is designed to help athletes succ...</td>\n",
              "      <td>['Beginner', 'Novice', 'Intermediate', 'Advanc...</td>\n",
              "      <td>['Olympic Weightlifting', 'Muscle &amp; Sculpting'...</td>\n",
              "      <td>Garage Gym</td>\n",
              "      <td>7.0</td>\n",
              "      <td>50.0</td>\n",
              "      <td>1.0</td>\n",
              "      <td>1.0</td>\n",
              "      <td>16.0</td>\n",
              "      <td>90/90 Hip Rotations</td>\n",
              "      <td>3.0</td>\n",
              "      <td>8.0</td>\n",
              "      <td>6.0</td>\n",
              "      <td>2025-03-09 04:11:00</td>\n",
              "      <td>2025-06-23 03:31:00</td>\n",
              "    </tr>\n",
              "    <tr>\n",
              "      <th>...</th>\n",
              "      <td>...</td>\n",
              "      <td>...</td>\n",
              "      <td>...</td>\n",
              "      <td>...</td>\n",
              "      <td>...</td>\n",
              "      <td>...</td>\n",
              "      <td>...</td>\n",
              "      <td>...</td>\n",
              "      <td>...</td>\n",
              "      <td>...</td>\n",
              "      <td>...</td>\n",
              "      <td>...</td>\n",
              "      <td>...</td>\n",
              "      <td>...</td>\n",
              "      <td>...</td>\n",
              "      <td>...</td>\n",
              "    </tr>\n",
              "    <tr>\n",
              "      <th>8987</th>\n",
              "      <td>3x week mainly machines</td>\n",
              "      <td>Lose weight and gain strength</td>\n",
              "      <td>['Beginner', 'Novice']</td>\n",
              "      <td>['Powerlifting', 'Powerbuilding']</td>\n",
              "      <td>Full Gym</td>\n",
              "      <td>12.0</td>\n",
              "      <td>40.0</td>\n",
              "      <td>7.0</td>\n",
              "      <td>1.0</td>\n",
              "      <td>8.0</td>\n",
              "      <td>Bicep Curl (Machine)</td>\n",
              "      <td>3.0</td>\n",
              "      <td>15.0</td>\n",
              "      <td>7.0</td>\n",
              "      <td>2025-05-26 08:41:00</td>\n",
              "      <td>2025-06-18 09:33:00</td>\n",
              "    </tr>\n",
              "    <tr>\n",
              "      <th>8988</th>\n",
              "      <td>3x week mainly machines</td>\n",
              "      <td>Lose weight and gain strength</td>\n",
              "      <td>['Beginner', 'Novice']</td>\n",
              "      <td>['Powerlifting', 'Powerbuilding']</td>\n",
              "      <td>Full Gym</td>\n",
              "      <td>12.0</td>\n",
              "      <td>40.0</td>\n",
              "      <td>7.0</td>\n",
              "      <td>2.0</td>\n",
              "      <td>6.0</td>\n",
              "      <td>Shoulder Press (Machine)</td>\n",
              "      <td>3.0</td>\n",
              "      <td>8.0</td>\n",
              "      <td>7.0</td>\n",
              "      <td>2025-05-26 08:41:00</td>\n",
              "      <td>2025-06-18 09:33:00</td>\n",
              "    </tr>\n",
              "    <tr>\n",
              "      <th>8989</th>\n",
              "      <td>3x week mainly machines</td>\n",
              "      <td>Lose weight and gain strength</td>\n",
              "      <td>['Beginner', 'Novice']</td>\n",
              "      <td>['Powerlifting', 'Powerbuilding']</td>\n",
              "      <td>Full Gym</td>\n",
              "      <td>12.0</td>\n",
              "      <td>40.0</td>\n",
              "      <td>7.0</td>\n",
              "      <td>2.0</td>\n",
              "      <td>6.0</td>\n",
              "      <td>Wide Grip Lat Pulldown</td>\n",
              "      <td>3.0</td>\n",
              "      <td>10.0</td>\n",
              "      <td>8.0</td>\n",
              "      <td>2025-05-26 08:41:00</td>\n",
              "      <td>2025-06-18 09:33:00</td>\n",
              "    </tr>\n",
              "    <tr>\n",
              "      <th>8990</th>\n",
              "      <td>3x week mainly machines</td>\n",
              "      <td>Lose weight and gain strength</td>\n",
              "      <td>['Beginner', 'Novice']</td>\n",
              "      <td>['Powerlifting', 'Powerbuilding']</td>\n",
              "      <td>Full Gym</td>\n",
              "      <td>12.0</td>\n",
              "      <td>40.0</td>\n",
              "      <td>7.0</td>\n",
              "      <td>2.0</td>\n",
              "      <td>6.0</td>\n",
              "      <td>Seated Row (Cable)</td>\n",
              "      <td>3.0</td>\n",
              "      <td>10.0</td>\n",
              "      <td>8.0</td>\n",
              "      <td>2025-05-26 08:41:00</td>\n",
              "      <td>2025-06-18 09:33:00</td>\n",
              "    </tr>\n",
              "    <tr>\n",
              "      <th>8991</th>\n",
              "      <td>3x week mainly machines</td>\n",
              "      <td>L</td>\n",
              "      <td>NaN</td>\n",
              "      <td>NaN</td>\n",
              "      <td>NaN</td>\n",
              "      <td>NaN</td>\n",
              "      <td>NaN</td>\n",
              "      <td>NaN</td>\n",
              "      <td>NaN</td>\n",
              "      <td>NaN</td>\n",
              "      <td>NaN</td>\n",
              "      <td>NaN</td>\n",
              "      <td>NaN</td>\n",
              "      <td>NaN</td>\n",
              "      <td>NaN</td>\n",
              "      <td>NaN</td>\n",
              "    </tr>\n",
              "  </tbody>\n",
              "</table>\n",
              "<p>8992 rows × 16 columns</p>\n",
              "</div>\n",
              "    <div class=\"colab-df-buttons\">\n",
              "\n",
              "  <div class=\"colab-df-container\">\n",
              "    <button class=\"colab-df-convert\" onclick=\"convertToInteractive('df-1713d345-4e9d-412f-bfc7-cb777afa15af')\"\n",
              "            title=\"Convert this dataframe to an interactive table.\"\n",
              "            style=\"display:none;\">\n",
              "\n",
              "  <svg xmlns=\"http://www.w3.org/2000/svg\" height=\"24px\" viewBox=\"0 -960 960 960\">\n",
              "    <path d=\"M120-120v-720h720v720H120Zm60-500h600v-160H180v160Zm220 220h160v-160H400v160Zm0 220h160v-160H400v160ZM180-400h160v-160H180v160Zm440 0h160v-160H620v160ZM180-180h160v-160H180v160Zm440 0h160v-160H620v160Z\"/>\n",
              "  </svg>\n",
              "    </button>\n",
              "\n",
              "  <style>\n",
              "    .colab-df-container {\n",
              "      display:flex;\n",
              "      gap: 12px;\n",
              "    }\n",
              "\n",
              "    .colab-df-convert {\n",
              "      background-color: #E8F0FE;\n",
              "      border: none;\n",
              "      border-radius: 50%;\n",
              "      cursor: pointer;\n",
              "      display: none;\n",
              "      fill: #1967D2;\n",
              "      height: 32px;\n",
              "      padding: 0 0 0 0;\n",
              "      width: 32px;\n",
              "    }\n",
              "\n",
              "    .colab-df-convert:hover {\n",
              "      background-color: #E2EBFA;\n",
              "      box-shadow: 0px 1px 2px rgba(60, 64, 67, 0.3), 0px 1px 3px 1px rgba(60, 64, 67, 0.15);\n",
              "      fill: #174EA6;\n",
              "    }\n",
              "\n",
              "    .colab-df-buttons div {\n",
              "      margin-bottom: 4px;\n",
              "    }\n",
              "\n",
              "    [theme=dark] .colab-df-convert {\n",
              "      background-color: #3B4455;\n",
              "      fill: #D2E3FC;\n",
              "    }\n",
              "\n",
              "    [theme=dark] .colab-df-convert:hover {\n",
              "      background-color: #434B5C;\n",
              "      box-shadow: 0px 1px 3px 1px rgba(0, 0, 0, 0.15);\n",
              "      filter: drop-shadow(0px 1px 2px rgba(0, 0, 0, 0.3));\n",
              "      fill: #FFFFFF;\n",
              "    }\n",
              "  </style>\n",
              "\n",
              "    <script>\n",
              "      const buttonEl =\n",
              "        document.querySelector('#df-1713d345-4e9d-412f-bfc7-cb777afa15af button.colab-df-convert');\n",
              "      buttonEl.style.display =\n",
              "        google.colab.kernel.accessAllowed ? 'block' : 'none';\n",
              "\n",
              "      async function convertToInteractive(key) {\n",
              "        const element = document.querySelector('#df-1713d345-4e9d-412f-bfc7-cb777afa15af');\n",
              "        const dataTable =\n",
              "          await google.colab.kernel.invokeFunction('convertToInteractive',\n",
              "                                                    [key], {});\n",
              "        if (!dataTable) return;\n",
              "\n",
              "        const docLinkHtml = 'Like what you see? Visit the ' +\n",
              "          '<a target=\"_blank\" href=https://colab.research.google.com/notebooks/data_table.ipynb>data table notebook</a>'\n",
              "          + ' to learn more about interactive tables.';\n",
              "        element.innerHTML = '';\n",
              "        dataTable['output_type'] = 'display_data';\n",
              "        await google.colab.output.renderOutput(dataTable, element);\n",
              "        const docLink = document.createElement('div');\n",
              "        docLink.innerHTML = docLinkHtml;\n",
              "        element.appendChild(docLink);\n",
              "      }\n",
              "    </script>\n",
              "  </div>\n",
              "\n",
              "\n",
              "    <div id=\"df-b5e0da2a-2e30-4ce7-b279-83fad8c89a36\">\n",
              "      <button class=\"colab-df-quickchart\" onclick=\"quickchart('df-b5e0da2a-2e30-4ce7-b279-83fad8c89a36')\"\n",
              "                title=\"Suggest charts\"\n",
              "                style=\"display:none;\">\n",
              "\n",
              "<svg xmlns=\"http://www.w3.org/2000/svg\" height=\"24px\"viewBox=\"0 0 24 24\"\n",
              "     width=\"24px\">\n",
              "    <g>\n",
              "        <path d=\"M19 3H5c-1.1 0-2 .9-2 2v14c0 1.1.9 2 2 2h14c1.1 0 2-.9 2-2V5c0-1.1-.9-2-2-2zM9 17H7v-7h2v7zm4 0h-2V7h2v10zm4 0h-2v-4h2v4z\"/>\n",
              "    </g>\n",
              "</svg>\n",
              "      </button>\n",
              "\n",
              "<style>\n",
              "  .colab-df-quickchart {\n",
              "      --bg-color: #E8F0FE;\n",
              "      --fill-color: #1967D2;\n",
              "      --hover-bg-color: #E2EBFA;\n",
              "      --hover-fill-color: #174EA6;\n",
              "      --disabled-fill-color: #AAA;\n",
              "      --disabled-bg-color: #DDD;\n",
              "  }\n",
              "\n",
              "  [theme=dark] .colab-df-quickchart {\n",
              "      --bg-color: #3B4455;\n",
              "      --fill-color: #D2E3FC;\n",
              "      --hover-bg-color: #434B5C;\n",
              "      --hover-fill-color: #FFFFFF;\n",
              "      --disabled-bg-color: #3B4455;\n",
              "      --disabled-fill-color: #666;\n",
              "  }\n",
              "\n",
              "  .colab-df-quickchart {\n",
              "    background-color: var(--bg-color);\n",
              "    border: none;\n",
              "    border-radius: 50%;\n",
              "    cursor: pointer;\n",
              "    display: none;\n",
              "    fill: var(--fill-color);\n",
              "    height: 32px;\n",
              "    padding: 0;\n",
              "    width: 32px;\n",
              "  }\n",
              "\n",
              "  .colab-df-quickchart:hover {\n",
              "    background-color: var(--hover-bg-color);\n",
              "    box-shadow: 0 1px 2px rgba(60, 64, 67, 0.3), 0 1px 3px 1px rgba(60, 64, 67, 0.15);\n",
              "    fill: var(--button-hover-fill-color);\n",
              "  }\n",
              "\n",
              "  .colab-df-quickchart-complete:disabled,\n",
              "  .colab-df-quickchart-complete:disabled:hover {\n",
              "    background-color: var(--disabled-bg-color);\n",
              "    fill: var(--disabled-fill-color);\n",
              "    box-shadow: none;\n",
              "  }\n",
              "\n",
              "  .colab-df-spinner {\n",
              "    border: 2px solid var(--fill-color);\n",
              "    border-color: transparent;\n",
              "    border-bottom-color: var(--fill-color);\n",
              "    animation:\n",
              "      spin 1s steps(1) infinite;\n",
              "  }\n",
              "\n",
              "  @keyframes spin {\n",
              "    0% {\n",
              "      border-color: transparent;\n",
              "      border-bottom-color: var(--fill-color);\n",
              "      border-left-color: var(--fill-color);\n",
              "    }\n",
              "    20% {\n",
              "      border-color: transparent;\n",
              "      border-left-color: var(--fill-color);\n",
              "      border-top-color: var(--fill-color);\n",
              "    }\n",
              "    30% {\n",
              "      border-color: transparent;\n",
              "      border-left-color: var(--fill-color);\n",
              "      border-top-color: var(--fill-color);\n",
              "      border-right-color: var(--fill-color);\n",
              "    }\n",
              "    40% {\n",
              "      border-color: transparent;\n",
              "      border-right-color: var(--fill-color);\n",
              "      border-top-color: var(--fill-color);\n",
              "    }\n",
              "    60% {\n",
              "      border-color: transparent;\n",
              "      border-right-color: var(--fill-color);\n",
              "    }\n",
              "    80% {\n",
              "      border-color: transparent;\n",
              "      border-right-color: var(--fill-color);\n",
              "      border-bottom-color: var(--fill-color);\n",
              "    }\n",
              "    90% {\n",
              "      border-color: transparent;\n",
              "      border-bottom-color: var(--fill-color);\n",
              "    }\n",
              "  }\n",
              "</style>\n",
              "\n",
              "      <script>\n",
              "        async function quickchart(key) {\n",
              "          const quickchartButtonEl =\n",
              "            document.querySelector('#' + key + ' button');\n",
              "          quickchartButtonEl.disabled = true;  // To prevent multiple clicks.\n",
              "          quickchartButtonEl.classList.add('colab-df-spinner');\n",
              "          try {\n",
              "            const charts = await google.colab.kernel.invokeFunction(\n",
              "                'suggestCharts', [key], {});\n",
              "          } catch (error) {\n",
              "            console.error('Error during call to suggestCharts:', error);\n",
              "          }\n",
              "          quickchartButtonEl.classList.remove('colab-df-spinner');\n",
              "          quickchartButtonEl.classList.add('colab-df-quickchart-complete');\n",
              "        }\n",
              "        (() => {\n",
              "          let quickchartButtonEl =\n",
              "            document.querySelector('#df-b5e0da2a-2e30-4ce7-b279-83fad8c89a36 button');\n",
              "          quickchartButtonEl.style.display =\n",
              "            google.colab.kernel.accessAllowed ? 'block' : 'none';\n",
              "        })();\n",
              "      </script>\n",
              "    </div>\n",
              "\n",
              "  <div id=\"id_a03b9aba-635e-4475-a2be-96cc3cdb5e60\">\n",
              "    <style>\n",
              "      .colab-df-generate {\n",
              "        background-color: #E8F0FE;\n",
              "        border: none;\n",
              "        border-radius: 50%;\n",
              "        cursor: pointer;\n",
              "        display: none;\n",
              "        fill: #1967D2;\n",
              "        height: 32px;\n",
              "        padding: 0 0 0 0;\n",
              "        width: 32px;\n",
              "      }\n",
              "\n",
              "      .colab-df-generate:hover {\n",
              "        background-color: #E2EBFA;\n",
              "        box-shadow: 0px 1px 2px rgba(60, 64, 67, 0.3), 0px 1px 3px 1px rgba(60, 64, 67, 0.15);\n",
              "        fill: #174EA6;\n",
              "      }\n",
              "\n",
              "      [theme=dark] .colab-df-generate {\n",
              "        background-color: #3B4455;\n",
              "        fill: #D2E3FC;\n",
              "      }\n",
              "\n",
              "      [theme=dark] .colab-df-generate:hover {\n",
              "        background-color: #434B5C;\n",
              "        box-shadow: 0px 1px 3px 1px rgba(0, 0, 0, 0.15);\n",
              "        filter: drop-shadow(0px 1px 2px rgba(0, 0, 0, 0.3));\n",
              "        fill: #FFFFFF;\n",
              "      }\n",
              "    </style>\n",
              "    <button class=\"colab-df-generate\" onclick=\"generateWithVariable('df')\"\n",
              "            title=\"Generate code using this dataframe.\"\n",
              "            style=\"display:none;\">\n",
              "\n",
              "  <svg xmlns=\"http://www.w3.org/2000/svg\" height=\"24px\"viewBox=\"0 0 24 24\"\n",
              "       width=\"24px\">\n",
              "    <path d=\"M7,19H8.4L18.45,9,17,7.55,7,17.6ZM5,21V16.75L18.45,3.32a2,2,0,0,1,2.83,0l1.4,1.43a1.91,1.91,0,0,1,.58,1.4,1.91,1.91,0,0,1-.58,1.4L9.25,21ZM18.45,9,17,7.55Zm-12,3A5.31,5.31,0,0,0,4.9,8.1,5.31,5.31,0,0,0,1,6.5,5.31,5.31,0,0,0,4.9,4.9,5.31,5.31,0,0,0,6.5,1,5.31,5.31,0,0,0,8.1,4.9,5.31,5.31,0,0,0,12,6.5,5.46,5.46,0,0,0,6.5,12Z\"/>\n",
              "  </svg>\n",
              "    </button>\n",
              "    <script>\n",
              "      (() => {\n",
              "      const buttonEl =\n",
              "        document.querySelector('#id_a03b9aba-635e-4475-a2be-96cc3cdb5e60 button.colab-df-generate');\n",
              "      buttonEl.style.display =\n",
              "        google.colab.kernel.accessAllowed ? 'block' : 'none';\n",
              "\n",
              "      buttonEl.onclick = () => {\n",
              "        google.colab.notebook.generateWithVariable('df');\n",
              "      }\n",
              "      })();\n",
              "    </script>\n",
              "  </div>\n",
              "\n",
              "    </div>\n",
              "  </div>\n"
            ],
            "application/vnd.google.colaboratory.intrinsic+json": {
              "type": "dataframe",
              "variable_name": "df",
              "summary": "{\n  \"name\": \"df\",\n  \"rows\": 8992,\n  \"fields\": [\n    {\n      \"column\": \"title\",\n      \"properties\": {\n        \"dtype\": \"category\",\n        \"num_unique_values\": 35,\n        \"samples\": [\n          \"Jordan Peters Full Body\",\n          \"Metallicdpas PPL (Reddit)\",\n          \"Puma\"\n        ],\n        \"semantic_type\": \"\",\n        \"description\": \"\"\n      }\n    },\n    {\n      \"column\": \"description\",\n      \"properties\": {\n        \"dtype\": \"category\",\n        \"num_unique_values\": 36,\n        \"samples\": [\n          \"L\",\n          \"Metallicdpas\\u2019 PPL targeted towards beginners, linear progression based. \\n\\nhttps://thefitness.wiki/reddit-archive/a-linear-progression-based-ppl-program-for-beginners/\",\n          \"This program follows a template suggested by former bodybuilder and coach Jordan Peters. It is a high intensity, low volume, high frequency split spanning 3 days a week. Frequency can be adjusted to every other day training if recovery capabilities allow for it. \\n\\n****DISCLAIMER****\\nThis account/ published program has no affiliation with the legend himself.\"\n        ],\n        \"semantic_type\": \"\",\n        \"description\": \"\"\n      }\n    },\n    {\n      \"column\": \"level\",\n      \"properties\": {\n        \"dtype\": \"category\",\n        \"num_unique_values\": 16,\n        \"samples\": [\n          \"['Beginner', 'Novice', 'Intermediate', 'Advanced']\",\n          \"[]\",\n          \"['Intermediate']\"\n        ],\n        \"semantic_type\": \"\",\n        \"description\": \"\"\n      }\n    },\n    {\n      \"column\": \"goal\",\n      \"properties\": {\n        \"dtype\": \"category\",\n        \"num_unique_values\": 17,\n        \"samples\": [\n          \"['Olympic Weightlifting', 'Muscle & Sculpting', 'Bodyweight Fitness', 'Powerbuilding', 'Athletics', 'Bodybuilding', 'Powerlifting']\",\n          \"[]\",\n          \"['Powerbuilding']\"\n        ],\n        \"semantic_type\": \"\",\n        \"description\": \"\"\n      }\n    },\n    {\n      \"column\": \"equipment\",\n      \"properties\": {\n        \"dtype\": \"category\",\n        \"num_unique_values\": 4,\n        \"samples\": [\n          \"Full Gym\",\n          \"At Home\",\n          \"Garage Gym\"\n        ],\n        \"semantic_type\": \"\",\n        \"description\": \"\"\n      }\n    },\n    {\n      \"column\": \"program_length\",\n      \"properties\": {\n        \"dtype\": \"number\",\n        \"std\": 4.361410218723172,\n        \"min\": 3.0,\n        \"max\": 18.0,\n        \"num_unique_values\": 11,\n        \"samples\": [\n          3.0,\n          7.0,\n          16.0\n        ],\n        \"semantic_type\": \"\",\n        \"description\": \"\"\n      }\n    },\n    {\n      \"column\": \"time_per_workout\",\n      \"properties\": {\n        \"dtype\": \"number\",\n        \"std\": 29.305696953485313,\n        \"min\": 10.0,\n        \"max\": 160.0,\n        \"num_unique_values\": 10,\n        \"samples\": [\n          120.0,\n          90.0,\n          30.0\n        ],\n        \"semantic_type\": \"\",\n        \"description\": \"\"\n      }\n    },\n    {\n      \"column\": \"week\",\n      \"properties\": {\n        \"dtype\": \"number\",\n        \"std\": 4.38924515571833,\n        \"min\": 1.0,\n        \"max\": 18.0,\n        \"num_unique_values\": 18,\n        \"samples\": [\n          1.0,\n          2.0,\n          9.0\n        ],\n        \"semantic_type\": \"\",\n        \"description\": \"\"\n      }\n    },\n    {\n      \"column\": \"day\",\n      \"properties\": {\n        \"dtype\": \"number\",\n        \"std\": 1.4735521307027253,\n        \"min\": 1.0,\n        \"max\": 7.0,\n        \"num_unique_values\": 7,\n        \"samples\": [\n          1.0,\n          2.0,\n          6.0\n        ],\n        \"semantic_type\": \"\",\n        \"description\": \"\"\n      }\n    },\n    {\n      \"column\": \"number_of_exercises\",\n      \"properties\": {\n        \"dtype\": \"number\",\n        \"std\": 3.277433106826579,\n        \"min\": 1.0,\n        \"max\": 17.0,\n        \"num_unique_values\": 15,\n        \"samples\": [\n          8.0,\n          9.0,\n          16.0\n        ],\n        \"semantic_type\": \"\",\n        \"description\": \"\"\n      }\n    },\n    {\n      \"column\": \"exercise_name\",\n      \"properties\": {\n        \"dtype\": \"category\",\n        \"num_unique_values\": 324,\n        \"samples\": [\n          \"Chest Fly (Dumbbell)\",\n          \"Lat Pulldown (Neutral Grip)\",\n          \"Tricep Rope Push Down (Cable)\"\n        ],\n        \"semantic_type\": \"\",\n        \"description\": \"\"\n      }\n    },\n    {\n      \"column\": \"sets\",\n      \"properties\": {\n        \"dtype\": \"number\",\n        \"std\": 1.1388132355604796,\n        \"min\": 1.0,\n        \"max\": 7.0,\n        \"num_unique_values\": 7,\n        \"samples\": [\n          3.0,\n          1.0,\n          6.0\n        ],\n        \"semantic_type\": \"\",\n        \"description\": \"\"\n      }\n    },\n    {\n      \"column\": \"reps\",\n      \"properties\": {\n        \"dtype\": \"number\",\n        \"std\": 337.6153889087045,\n        \"min\": -3600.0,\n        \"max\": 100.0,\n        \"num_unique_values\": 44,\n        \"samples\": [\n          -1200.0,\n          30.0,\n          3.0\n        ],\n        \"semantic_type\": \"\",\n        \"description\": \"\"\n      }\n    },\n    {\n      \"column\": \"intensity\",\n      \"properties\": {\n        \"dtype\": \"number\",\n        \"std\": 1.1886889377522025,\n        \"min\": 2.0,\n        \"max\": 10.0,\n        \"num_unique_values\": 9,\n        \"samples\": [\n          3.0,\n          8.0,\n          2.0\n        ],\n        \"semantic_type\": \"\",\n        \"description\": \"\"\n      }\n    },\n    {\n      \"column\": \"created\",\n      \"properties\": {\n        \"dtype\": \"object\",\n        \"num_unique_values\": 36,\n        \"samples\": [\n          \"2025-05-26 08:41:00\",\n          \"2025-03-11 05:51:00\",\n          \"2024-02-27 12:58:00\"\n        ],\n        \"semantic_type\": \"\",\n        \"description\": \"\"\n      }\n    },\n    {\n      \"column\": \"last_edit\",\n      \"properties\": {\n        \"dtype\": \"object\",\n        \"num_unique_values\": 32,\n        \"samples\": [\n          \"2025-06-18 06:51:00\",\n          \"2025-06-22 08:05:00\",\n          \"2025-06-26 12:32:00\"\n        ],\n        \"semantic_type\": \"\",\n        \"description\": \"\"\n      }\n    }\n  ]\n}"
            }
          },
          "metadata": {},
          "execution_count": 5
        }
      ]
    },
    {
      "cell_type": "markdown",
      "source": [
        "## Checking the info to see what columns have null values"
      ],
      "metadata": {
        "id": "PiJbebMMbSJW"
      }
    },
    {
      "cell_type": "code",
      "source": [
        "df.info()"
      ],
      "metadata": {
        "id": "3tqrp68WTzaK",
        "colab": {
          "base_uri": "https://localhost:8080/"
        },
        "collapsed": true,
        "outputId": "22cc82e1-44fa-4be2-977c-7217235890b4"
      },
      "execution_count": 6,
      "outputs": [
        {
          "output_type": "stream",
          "name": "stdout",
          "text": [
            "<class 'pandas.core.frame.DataFrame'>\n",
            "RangeIndex: 8992 entries, 0 to 8991\n",
            "Data columns (total 16 columns):\n",
            " #   Column               Non-Null Count  Dtype  \n",
            "---  ------               --------------  -----  \n",
            " 0   title                8992 non-null   object \n",
            " 1   description          8992 non-null   object \n",
            " 2   level                8991 non-null   object \n",
            " 3   goal                 8991 non-null   object \n",
            " 4   equipment            8991 non-null   object \n",
            " 5   program_length       8991 non-null   float64\n",
            " 6   time_per_workout     8991 non-null   float64\n",
            " 7   week                 8991 non-null   float64\n",
            " 8   day                  8991 non-null   float64\n",
            " 9   number_of_exercises  8991 non-null   float64\n",
            " 10  exercise_name        8991 non-null   object \n",
            " 11  sets                 8991 non-null   float64\n",
            " 12  reps                 8991 non-null   float64\n",
            " 13  intensity            8991 non-null   float64\n",
            " 14  created              8991 non-null   object \n",
            " 15  last_edit            8991 non-null   object \n",
            "dtypes: float64(8), object(8)\n",
            "memory usage: 1.1+ MB\n"
          ]
        }
      ]
    },
    {
      "cell_type": "markdown",
      "source": [
        "## Data Cleaning (filling the null values and converting the data types if needed)"
      ],
      "metadata": {
        "id": "GelBfKaRba2Q"
      }
    },
    {
      "cell_type": "code",
      "source": [
        "df[\"number_of_exercises\"]"
      ],
      "metadata": {
        "collapsed": true,
        "id": "Kg15pqoTWGlY",
        "colab": {
          "base_uri": "https://localhost:8080/",
          "height": 458
        },
        "outputId": "f31c08fb-734e-4f1f-e588-3a3fea0189da"
      },
      "execution_count": 7,
      "outputs": [
        {
          "output_type": "execute_result",
          "data": {
            "text/plain": [
              "0       16.0\n",
              "1       16.0\n",
              "2       16.0\n",
              "3       16.0\n",
              "4       16.0\n",
              "        ... \n",
              "8987     8.0\n",
              "8988     6.0\n",
              "8989     6.0\n",
              "8990     6.0\n",
              "8991     NaN\n",
              "Name: number_of_exercises, Length: 8992, dtype: float64"
            ],
            "text/html": [
              "<div>\n",
              "<style scoped>\n",
              "    .dataframe tbody tr th:only-of-type {\n",
              "        vertical-align: middle;\n",
              "    }\n",
              "\n",
              "    .dataframe tbody tr th {\n",
              "        vertical-align: top;\n",
              "    }\n",
              "\n",
              "    .dataframe thead th {\n",
              "        text-align: right;\n",
              "    }\n",
              "</style>\n",
              "<table border=\"1\" class=\"dataframe\">\n",
              "  <thead>\n",
              "    <tr style=\"text-align: right;\">\n",
              "      <th></th>\n",
              "      <th>number_of_exercises</th>\n",
              "    </tr>\n",
              "  </thead>\n",
              "  <tbody>\n",
              "    <tr>\n",
              "      <th>0</th>\n",
              "      <td>16.0</td>\n",
              "    </tr>\n",
              "    <tr>\n",
              "      <th>1</th>\n",
              "      <td>16.0</td>\n",
              "    </tr>\n",
              "    <tr>\n",
              "      <th>2</th>\n",
              "      <td>16.0</td>\n",
              "    </tr>\n",
              "    <tr>\n",
              "      <th>3</th>\n",
              "      <td>16.0</td>\n",
              "    </tr>\n",
              "    <tr>\n",
              "      <th>4</th>\n",
              "      <td>16.0</td>\n",
              "    </tr>\n",
              "    <tr>\n",
              "      <th>...</th>\n",
              "      <td>...</td>\n",
              "    </tr>\n",
              "    <tr>\n",
              "      <th>8987</th>\n",
              "      <td>8.0</td>\n",
              "    </tr>\n",
              "    <tr>\n",
              "      <th>8988</th>\n",
              "      <td>6.0</td>\n",
              "    </tr>\n",
              "    <tr>\n",
              "      <th>8989</th>\n",
              "      <td>6.0</td>\n",
              "    </tr>\n",
              "    <tr>\n",
              "      <th>8990</th>\n",
              "      <td>6.0</td>\n",
              "    </tr>\n",
              "    <tr>\n",
              "      <th>8991</th>\n",
              "      <td>NaN</td>\n",
              "    </tr>\n",
              "  </tbody>\n",
              "</table>\n",
              "<p>8992 rows × 1 columns</p>\n",
              "</div><br><label><b>dtype:</b> float64</label>"
            ]
          },
          "metadata": {},
          "execution_count": 7
        }
      ]
    },
    {
      "cell_type": "code",
      "source": [
        "non_numeric = df[~df[\"number_of_exercises\"].apply(lambda x: str(x).isdigit())]\n",
        "print(non_numeric[\"number_of_exercises\"].unique())\n"
      ],
      "metadata": {
        "collapsed": true,
        "id": "HtOrtLmJWU6P",
        "colab": {
          "base_uri": "https://localhost:8080/"
        },
        "outputId": "a4dfcdd6-1cb9-4fd9-cfd3-312a02c36094"
      },
      "execution_count": 8,
      "outputs": [
        {
          "output_type": "stream",
          "name": "stdout",
          "text": [
            "[16. 17. 14. 13.  4.  1.  6.  7.  5.  8.  3.  9. 11.  2. 12. nan]\n"
          ]
        }
      ]
    },
    {
      "cell_type": "code",
      "source": [
        "df[\"number_of_exercises\"] = pd.to_numeric(df[\"number_of_exercises\"], errors='coerce')"
      ],
      "metadata": {
        "id": "sAfsIvENW0Ko"
      },
      "execution_count": 9,
      "outputs": []
    },
    {
      "cell_type": "code",
      "source": [
        "df[\"number_of_exercises\"] = df[\"number_of_exercises\"].fillna(method = \"ffill\")"
      ],
      "metadata": {
        "collapsed": true,
        "id": "5KsGUMeKT0yw",
        "colab": {
          "base_uri": "https://localhost:8080/"
        },
        "outputId": "93a27116-5638-4d29-f7fc-bfe21a7d1f55"
      },
      "execution_count": 11,
      "outputs": [
        {
          "output_type": "stream",
          "name": "stderr",
          "text": [
            "/tmp/ipython-input-11-793728449.py:1: FutureWarning: Series.fillna with 'method' is deprecated and will raise in a future version. Use obj.ffill() or obj.bfill() instead.\n",
            "  df[\"number_of_exercises\"] = df[\"number_of_exercises\"].fillna(method = \"ffill\")\n"
          ]
        }
      ]
    },
    {
      "cell_type": "code",
      "source": [
        "df[\"number_of_exercises\"].isnull().sum()"
      ],
      "metadata": {
        "collapsed": true,
        "id": "DZOhXHRqVqXx",
        "colab": {
          "base_uri": "https://localhost:8080/"
        },
        "outputId": "f440a3c2-c0fc-427d-ac86-53b518bab04f"
      },
      "execution_count": 10,
      "outputs": [
        {
          "output_type": "execute_result",
          "data": {
            "text/plain": [
              "np.int64(1)"
            ]
          },
          "metadata": {},
          "execution_count": 10
        }
      ]
    },
    {
      "cell_type": "code",
      "source": [
        "df[\"number_of_exercises\"] = df[\"number_of_exercises\"].astype(np.int64)"
      ],
      "metadata": {
        "id": "gDsPGnaCVDH0"
      },
      "execution_count": 12,
      "outputs": []
    },
    {
      "cell_type": "code",
      "source": [
        "df[\"number_of_exercises\"].info()"
      ],
      "metadata": {
        "collapsed": true,
        "id": "Lq05V_mpVya8",
        "colab": {
          "base_uri": "https://localhost:8080/"
        },
        "outputId": "93dd09d3-0afe-42d9-8cc0-e4aef6660dff"
      },
      "execution_count": 13,
      "outputs": [
        {
          "output_type": "stream",
          "name": "stdout",
          "text": [
            "<class 'pandas.core.series.Series'>\n",
            "RangeIndex: 8992 entries, 0 to 8991\n",
            "Series name: number_of_exercises\n",
            "Non-Null Count  Dtype\n",
            "--------------  -----\n",
            "8992 non-null   int64\n",
            "dtypes: int64(1)\n",
            "memory usage: 70.4 KB\n"
          ]
        }
      ]
    },
    {
      "cell_type": "code",
      "source": [
        "df[\"description\"].isnull().sum()"
      ],
      "metadata": {
        "collapsed": true,
        "id": "40LkSs9UaDgx",
        "colab": {
          "base_uri": "https://localhost:8080/"
        },
        "outputId": "8c2e0ff5-bc8c-492c-cfbd-cc6de80a39e5"
      },
      "execution_count": 14,
      "outputs": [
        {
          "output_type": "execute_result",
          "data": {
            "text/plain": [
              "np.int64(0)"
            ]
          },
          "metadata": {},
          "execution_count": 14
        }
      ]
    },
    {
      "cell_type": "code",
      "source": [
        "df[\"description\"] = df[\"description\"].fillna(method = \"ffill\")"
      ],
      "metadata": {
        "id": "O3kHtP5ZZXG5",
        "colab": {
          "base_uri": "https://localhost:8080/"
        },
        "outputId": "0b830543-39d1-4cae-ce0f-d0fed71c8c2f"
      },
      "execution_count": 15,
      "outputs": [
        {
          "output_type": "stream",
          "name": "stderr",
          "text": [
            "/tmp/ipython-input-15-1569868018.py:1: FutureWarning: Series.fillna with 'method' is deprecated and will raise in a future version. Use obj.ffill() or obj.bfill() instead.\n",
            "  df[\"description\"] = df[\"description\"].fillna(method = \"ffill\")\n"
          ]
        }
      ]
    },
    {
      "cell_type": "code",
      "source": [
        "df[\"level\"].isnull().sum()"
      ],
      "metadata": {
        "id": "N-0RolO_aPaH",
        "colab": {
          "base_uri": "https://localhost:8080/"
        },
        "outputId": "66793fd8-bb4b-458d-d2df-e2989d707e10"
      },
      "execution_count": 16,
      "outputs": [
        {
          "output_type": "execute_result",
          "data": {
            "text/plain": [
              "np.int64(1)"
            ]
          },
          "metadata": {},
          "execution_count": 16
        }
      ]
    },
    {
      "cell_type": "code",
      "source": [
        "print(df[df[\"level\"].isnull()])"
      ],
      "metadata": {
        "collapsed": true,
        "id": "xmFMrbdEaeqX",
        "colab": {
          "base_uri": "https://localhost:8080/"
        },
        "outputId": "565b063d-801a-454c-f3d4-5f32e248101f"
      },
      "execution_count": 17,
      "outputs": [
        {
          "output_type": "stream",
          "name": "stdout",
          "text": [
            "                        title description level goal equipment  \\\n",
            "8991  3x week mainly machines           L   NaN  NaN       NaN   \n",
            "\n",
            "      program_length  time_per_workout  week  day  number_of_exercises  \\\n",
            "8991             NaN               NaN   NaN  NaN                    6   \n",
            "\n",
            "     exercise_name  sets  reps  intensity created last_edit  \n",
            "8991           NaN   NaN   NaN        NaN     NaN       NaN  \n"
          ]
        }
      ]
    },
    {
      "cell_type": "code",
      "source": [
        "df[\"level\"] = df[\"level\"].fillna(method = \"ffill\")"
      ],
      "metadata": {
        "id": "Dl3e3DbDa6DH",
        "colab": {
          "base_uri": "https://localhost:8080/"
        },
        "outputId": "b57a0b51-fcbe-4ad7-dca7-d3b74fe1572e"
      },
      "execution_count": 18,
      "outputs": [
        {
          "output_type": "stream",
          "name": "stderr",
          "text": [
            "/tmp/ipython-input-18-1822655205.py:1: FutureWarning: Series.fillna with 'method' is deprecated and will raise in a future version. Use obj.ffill() or obj.bfill() instead.\n",
            "  df[\"level\"] = df[\"level\"].fillna(method = \"ffill\")\n"
          ]
        }
      ]
    },
    {
      "cell_type": "code",
      "source": [
        "df[\"level\"].isnull().sum()"
      ],
      "metadata": {
        "id": "Fz0ZHfIobHMv",
        "colab": {
          "base_uri": "https://localhost:8080/"
        },
        "outputId": "0f2f3a37-c69b-46a4-dbbe-c60160f25c56"
      },
      "execution_count": 19,
      "outputs": [
        {
          "output_type": "execute_result",
          "data": {
            "text/plain": [
              "np.int64(0)"
            ]
          },
          "metadata": {},
          "execution_count": 19
        }
      ]
    },
    {
      "cell_type": "code",
      "source": [
        "df[\"goal\"].isnull().sum()"
      ],
      "metadata": {
        "id": "ZPZC_vccbqzI",
        "colab": {
          "base_uri": "https://localhost:8080/"
        },
        "outputId": "7416d5af-629e-4a32-c17b-b96e69451c7c"
      },
      "execution_count": 20,
      "outputs": [
        {
          "output_type": "execute_result",
          "data": {
            "text/plain": [
              "np.int64(1)"
            ]
          },
          "metadata": {},
          "execution_count": 20
        }
      ]
    },
    {
      "cell_type": "code",
      "source": [
        "df[\"goal\"] = df['goal'].fillna(method = \"ffill\")"
      ],
      "metadata": {
        "id": "-BTWZcySb00E",
        "colab": {
          "base_uri": "https://localhost:8080/"
        },
        "outputId": "49b6812c-9156-44a3-fb69-30a1ddd0d8d2"
      },
      "execution_count": 21,
      "outputs": [
        {
          "output_type": "stream",
          "name": "stderr",
          "text": [
            "/tmp/ipython-input-21-3190671917.py:1: FutureWarning: Series.fillna with 'method' is deprecated and will raise in a future version. Use obj.ffill() or obj.bfill() instead.\n",
            "  df[\"goal\"] = df['goal'].fillna(method = \"ffill\")\n"
          ]
        }
      ]
    },
    {
      "cell_type": "code",
      "source": [
        "df[\"equipment\"].isnull().sum()"
      ],
      "metadata": {
        "id": "s7MOdzwFcRbv",
        "colab": {
          "base_uri": "https://localhost:8080/"
        },
        "outputId": "f4e8c566-1727-4a54-f83d-2cfb448add32"
      },
      "execution_count": 22,
      "outputs": [
        {
          "output_type": "execute_result",
          "data": {
            "text/plain": [
              "np.int64(1)"
            ]
          },
          "metadata": {},
          "execution_count": 22
        }
      ]
    },
    {
      "cell_type": "code",
      "source": [
        "df[\"equipment\"] = df[\"equipment\"].fillna(method = \"ffill\")"
      ],
      "metadata": {
        "id": "dp9lis7vcYMJ",
        "colab": {
          "base_uri": "https://localhost:8080/"
        },
        "outputId": "a5e53c86-7ac2-417c-8eda-8d21fef9b8e6"
      },
      "execution_count": 23,
      "outputs": [
        {
          "output_type": "stream",
          "name": "stderr",
          "text": [
            "/tmp/ipython-input-23-1965335001.py:1: FutureWarning: Series.fillna with 'method' is deprecated and will raise in a future version. Use obj.ffill() or obj.bfill() instead.\n",
            "  df[\"equipment\"] = df[\"equipment\"].fillna(method = \"ffill\")\n"
          ]
        }
      ]
    },
    {
      "cell_type": "code",
      "source": [
        "df[\"program_length\"].isnull().sum()"
      ],
      "metadata": {
        "id": "hxGVjtKz41GQ",
        "colab": {
          "base_uri": "https://localhost:8080/"
        },
        "outputId": "dba92198-5844-42c8-e500-07a05722f6dc"
      },
      "execution_count": 24,
      "outputs": [
        {
          "output_type": "execute_result",
          "data": {
            "text/plain": [
              "np.int64(1)"
            ]
          },
          "metadata": {},
          "execution_count": 24
        }
      ]
    },
    {
      "cell_type": "code",
      "source": [
        "df[\"program_length\"] = df[\"program_length\"].fillna(method = \"ffill\")"
      ],
      "metadata": {
        "collapsed": true,
        "id": "FZYE0p-Q5EZt",
        "colab": {
          "base_uri": "https://localhost:8080/"
        },
        "outputId": "8a30e6c4-c324-4959-ced2-05a5bd8787fd"
      },
      "execution_count": 25,
      "outputs": [
        {
          "output_type": "stream",
          "name": "stderr",
          "text": [
            "/tmp/ipython-input-25-2657474288.py:1: FutureWarning: Series.fillna with 'method' is deprecated and will raise in a future version. Use obj.ffill() or obj.bfill() instead.\n",
            "  df[\"program_length\"] = df[\"program_length\"].fillna(method = \"ffill\")\n"
          ]
        }
      ]
    },
    {
      "cell_type": "code",
      "source": [
        "df[\"time_per_workout\"].isnull().sum()"
      ],
      "metadata": {
        "colab": {
          "base_uri": "https://localhost:8080/"
        },
        "id": "hFJQwBiQrYzQ",
        "outputId": "4dd21ff2-1672-416e-d7bf-d93a173ad991"
      },
      "execution_count": 26,
      "outputs": [
        {
          "output_type": "execute_result",
          "data": {
            "text/plain": [
              "np.int64(1)"
            ]
          },
          "metadata": {},
          "execution_count": 26
        }
      ]
    },
    {
      "cell_type": "code",
      "source": [
        "df[\"time_per_workout\"] = df[\"time_per_workout\"].fillna(method = \"ffill\")"
      ],
      "metadata": {
        "colab": {
          "base_uri": "https://localhost:8080/"
        },
        "id": "k3sz0rDKrd4W",
        "outputId": "40a5b91c-7525-4e9a-f609-5a2f84243d17"
      },
      "execution_count": 27,
      "outputs": [
        {
          "output_type": "stream",
          "name": "stderr",
          "text": [
            "/tmp/ipython-input-27-3943120847.py:1: FutureWarning: Series.fillna with 'method' is deprecated and will raise in a future version. Use obj.ffill() or obj.bfill() instead.\n",
            "  df[\"time_per_workout\"] = df[\"time_per_workout\"].fillna(method = \"ffill\")\n"
          ]
        }
      ]
    },
    {
      "cell_type": "code",
      "source": [
        "df[\"week\"]"
      ],
      "metadata": {
        "colab": {
          "base_uri": "https://localhost:8080/",
          "height": 458
        },
        "id": "QSUkdStLrufW",
        "outputId": "21ddad92-91b5-474f-d1c1-24a7ee528bfe"
      },
      "execution_count": 28,
      "outputs": [
        {
          "output_type": "execute_result",
          "data": {
            "text/plain": [
              "0       1.0\n",
              "1       1.0\n",
              "2       1.0\n",
              "3       1.0\n",
              "4       1.0\n",
              "       ... \n",
              "8987    7.0\n",
              "8988    7.0\n",
              "8989    7.0\n",
              "8990    7.0\n",
              "8991    NaN\n",
              "Name: week, Length: 8992, dtype: float64"
            ],
            "text/html": [
              "<div>\n",
              "<style scoped>\n",
              "    .dataframe tbody tr th:only-of-type {\n",
              "        vertical-align: middle;\n",
              "    }\n",
              "\n",
              "    .dataframe tbody tr th {\n",
              "        vertical-align: top;\n",
              "    }\n",
              "\n",
              "    .dataframe thead th {\n",
              "        text-align: right;\n",
              "    }\n",
              "</style>\n",
              "<table border=\"1\" class=\"dataframe\">\n",
              "  <thead>\n",
              "    <tr style=\"text-align: right;\">\n",
              "      <th></th>\n",
              "      <th>week</th>\n",
              "    </tr>\n",
              "  </thead>\n",
              "  <tbody>\n",
              "    <tr>\n",
              "      <th>0</th>\n",
              "      <td>1.0</td>\n",
              "    </tr>\n",
              "    <tr>\n",
              "      <th>1</th>\n",
              "      <td>1.0</td>\n",
              "    </tr>\n",
              "    <tr>\n",
              "      <th>2</th>\n",
              "      <td>1.0</td>\n",
              "    </tr>\n",
              "    <tr>\n",
              "      <th>3</th>\n",
              "      <td>1.0</td>\n",
              "    </tr>\n",
              "    <tr>\n",
              "      <th>4</th>\n",
              "      <td>1.0</td>\n",
              "    </tr>\n",
              "    <tr>\n",
              "      <th>...</th>\n",
              "      <td>...</td>\n",
              "    </tr>\n",
              "    <tr>\n",
              "      <th>8987</th>\n",
              "      <td>7.0</td>\n",
              "    </tr>\n",
              "    <tr>\n",
              "      <th>8988</th>\n",
              "      <td>7.0</td>\n",
              "    </tr>\n",
              "    <tr>\n",
              "      <th>8989</th>\n",
              "      <td>7.0</td>\n",
              "    </tr>\n",
              "    <tr>\n",
              "      <th>8990</th>\n",
              "      <td>7.0</td>\n",
              "    </tr>\n",
              "    <tr>\n",
              "      <th>8991</th>\n",
              "      <td>NaN</td>\n",
              "    </tr>\n",
              "  </tbody>\n",
              "</table>\n",
              "<p>8992 rows × 1 columns</p>\n",
              "</div><br><label><b>dtype:</b> float64</label>"
            ]
          },
          "metadata": {},
          "execution_count": 28
        }
      ]
    },
    {
      "cell_type": "markdown",
      "source": [
        "## Data Visulization\n"
      ],
      "metadata": {
        "id": "J2_QNLFMroka"
      }
    },
    {
      "cell_type": "code",
      "source": [
        "import matplotlib.pyplot as plt"
      ],
      "metadata": {
        "id": "Cbptt0VaekK6"
      },
      "execution_count": 29,
      "outputs": []
    },
    {
      "cell_type": "code",
      "source": [
        "plt.plot(df[\"reps\"][:10])"
      ],
      "metadata": {
        "id": "zpiOod5cepWU",
        "colab": {
          "base_uri": "https://localhost:8080/",
          "height": 448
        },
        "outputId": "f5196374-c69b-4858-afef-e858ba78edd4"
      },
      "execution_count": 30,
      "outputs": [
        {
          "output_type": "execute_result",
          "data": {
            "text/plain": [
              "[<matplotlib.lines.Line2D at 0x7f87a35474d0>]"
            ]
          },
          "metadata": {},
          "execution_count": 30
        },
        {
          "output_type": "display_data",
          "data": {
            "text/plain": [
              "<Figure size 640x480 with 1 Axes>"
            ],
            "image/png": "[encoded data removed]"
          },
          "metadata": {}
        }
      ]
    },
    {
      "cell_type": "code",
      "source": [
        "plt.plot(df[\"week\"][:100] )"
      ],
      "metadata": {
        "colab": {
          "base_uri": "https://localhost:8080/",
          "height": 448
        },
        "id": "tQ5hRpiVsRdn",
        "outputId": "34acadc0-fd36-40a5-9252-fbb02bc99549"
      },
      "execution_count": 31,
      "outputs": [
        {
          "output_type": "execute_result",
          "data": {
            "text/plain": [
              "[<matplotlib.lines.Line2D at 0x7f87a12e5b10>]"
            ]
          },
          "metadata": {},
          "execution_count": 31
        },
        {
          "output_type": "display_data",
          "data": {
            "text/plain": [
              "<Figure size 640x480 with 1 Axes>"
            ],
            "image/png": "[encoded data removed]"
          },
          "metadata": {}
        }
      ]
    },
    {
      "cell_type": "code",
      "source": [
        "!git clone https://github.com/ShivaManiV2/Pandas_Pratice.git"
      ],
      "metadata": {
        "colab": {
          "base_uri": "https://localhost:8080/"
        },
        "id": "e6Az9cdRr_c_",
        "outputId": "5b5a34ca-df31-4bb3-d5e2-4cacf4e9c762"
      },
      "execution_count": 32,
      "outputs": [
        {
          "output_type": "stream",
          "name": "stdout",
          "text": [
            "fatal: destination path 'Pandas_Pratice' already exists and is not an empty directory.\n"
          ]
        }
      ]
    },
    {
      "cell_type": "code",
      "source": [
        "!cd Untitled2.ipynb Pandas_Pratice/"
      ],
      "metadata": {
        "id": "TT_b9vT0s2Pd",
        "outputId": "70e2bf91-9928-4345-af79-551618dc91b8",
        "colab": {
          "base_uri": "https://localhost:8080/"
        }
      },
      "execution_count": 33,
      "outputs": [
        {
          "output_type": "stream",
          "name": "stdout",
          "text": [
            "/bin/bash: line 1: cd: too many arguments\n"
          ]
        }
      ]
    },
    {
      "cell_type": "code",
      "source": [
        "!git clone https://github.com/ShivaManiV2/Pandas_Pratice.git"
      ],
      "metadata": {
        "id": "Rh6vSHT8s8vu",
        "outputId": "bf3d6d14-3ac8-4d7f-fc05-ced96dfbdd3c",
        "colab": {
          "base_uri": "https://localhost:8080/"
        }
      },
      "execution_count": 34,
      "outputs": [
        {
          "output_type": "stream",
          "name": "stdout",
          "text": [
            "fatal: destination path 'Pandas_Pratice' already exists and is not an empty directory.\n"
          ]
        }
      ]
    },
    {
      "cell_type": "code",
      "source": [
        "%cd Pandas_Pratice"
      ],
      "metadata": {
        "id": "gc6U4iVAte5I",
        "outputId": "6084e425-905f-4343-8088-0c37a830ac8f",
        "colab": {
          "base_uri": "https://localhost:8080/"
        }
      },
      "execution_count": 35,
      "outputs": [
        {
          "output_type": "stream",
          "name": "stdout",
          "text": [
            "/content/Pandas_Pratice\n"
          ]
        }
      ]
    },
    {
      "cell_type": "code",
      "source": [
        "!git add ."
      ],
      "metadata": {
        "id": "QwHnUFsvtm0z"
      },
      "execution_count": 36,
      "outputs": []
    },
    {
      "cell_type": "code",
      "source": [
        "!git config --global user.email \"shivamani3624@gmail.com\"\n",
        "!git config --global user.name \"Shivamani\""
      ],
      "metadata": {
        "id": "5PhNKerEt2hx"
      },
      "execution_count": 39,
      "outputs": []
    },
    {
      "cell_type": "code",
      "source": [
        "!git commit -m \"Updated from Colab\""
      ],
      "metadata": {
        "id": "LK8YGdrottJ8",
        "outputId": "b4fe6887-f0c4-4e2d-bc7f-a236c5657d22",
        "colab": {
          "base_uri": "https://localhost:8080/"
        }
      },
      "execution_count": 40,
      "outputs": [
        {
          "output_type": "stream",
          "name": "stdout",
          "text": [
            "On branch master\n",
            "Your branch is up to date with 'origin/master'.\n",
            "\n",
            "nothing to commit, working tree clean\n"
          ]
        }
      ]
    },
    {
      "cell_type": "code",
      "source": [
        "!git add ."
      ],
      "metadata": {
        "id": "4y0SiGSKuO7v"
      },
      "execution_count": 41,
      "outputs": []
    },
    {
      "cell_type": "code",
      "source": [
        "!git branch"
      ],
      "metadata": {
        "id": "KcjNbkqVuRVX",
        "outputId": "ab1a19f4-085f-4c04-e2c4-d2dd6a7b8285",
        "colab": {
          "base_uri": "https://localhost:8080/"
        }
      },
      "execution_count": 42,
      "outputs": [
        {
          "output_type": "stream",
          "name": "stdout",
          "text": [
            "* \u001b[32mmaster\u001b[m\n"
          ]
        }
      ]
    },
    {
      "cell_type": "code",
      "source": [
        "!git remote set-url origin https://github.com/ShivaManiV2/Pandas_Pratice.git"
      ],
      "metadata": {
        "id": "2UozyxQYug07"
      },
      "execution_count": 43,
      "outputs": []
    },
    {
      "cell_type": "code",
      "source": [
        "!git push origin master"
      ],
      "metadata": {
        "id": "mmvWwMTduq9H",
        "outputId": "eb3e7a9b-92d3-4781-d77c-470036b860d8",
        "colab": {
          "base_uri": "https://localhost:8080/"
        }
      },
      "execution_count": 44,
      "outputs": [
        {
          "output_type": "stream",
          "name": "stdout",
          "text": [
            "fatal: could not read Username for 'https://github.com': No such device or address\n"
          ]
        }
      ]
    },
    {
      "cell_type": "code",
      "source": [],
      "metadata": {
        "id": "ktHwWIuDuuBU"
      },
      "execution_count": null,
      "outputs": []
    }
  ]
}